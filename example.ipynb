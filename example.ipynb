{
 "cells": [
  {
   "cell_type": "code",
   "execution_count": 1,
   "metadata": {},
   "outputs": [],
   "source": [
    "\"\"\"\n",
    "This notebook give a easy usage of MP class, and show it's outstanding performance, with an example of matrix calculation.\n",
    "\"\"\"\n",
    "\n",
    "from mp import MP\n",
    "%load_ext autoreload\n",
    "%autoreload 2\n",
    "NUM_THREADS=12 # The number of pthreads, best be consistant with cpu number that you alllocated \n",
    "mlp=MP(NUM_THREADS)\n"
   ]
  },
  {
   "cell_type": "code",
   "execution_count": 2,
   "metadata": {},
   "outputs": [],
   "source": [
    "import numpy as np\n",
    "N=500\n",
    "from time import time\n",
    "a=np.random.randn(N,N)\n",
    "b=np.random.randn(N,N)"
   ]
  },
  {
   "cell_type": "code",
   "execution_count": 3,
   "metadata": {},
   "outputs": [
    {
     "name": "stdout",
     "output_type": "stream",
     "text": [
      "[[-38.54724656  36.01183984 -12.96472016 ...  31.72509322  14.56102282\n",
      "    3.51573581]\n",
      " [ 33.07941645 -12.8237037    7.56872683 ...   0.29008016 -24.90881766\n",
      "  -65.54496598]\n",
      " [  6.00512148  45.22889745  -4.83857164 ... -19.4634574   -5.219751\n",
      "  -16.40322885]\n",
      " ...\n",
      " [ -1.32718804 -22.37264872   2.60526424 ...  13.13904165  10.48330414\n",
      "  -52.77687479]\n",
      " [ -9.25239185 -26.88676563 -10.46947294 ...   3.8999377   -1.03615562\n",
      "    5.04060175]\n",
      " [ -7.18062409   9.09205416  20.04932519 ...   1.75636194  -3.5820881\n",
      "   -6.17233997]]\n",
      "Result Sum: -11997.284146891883\n",
      "Result Std: 22.25576049932783\n",
      "Time: 83.5760977268219\n"
     ]
    }
   ],
   "source": [
    "# Brute force version of matrix multiplication\n",
    "c=np.zeros_like(a)\n",
    "st=time()\n",
    "for i in range(N):\n",
    "    for k in range(N):\n",
    "        for j in range(N):\n",
    "            c[i][j]+=a[i][k]*b[k][j]\n",
    "ed=time()\n",
    "print(c)\n",
    "print(\"Result Sum:\",np.sum(c))\n",
    "print(\"Result Std:\",np.std(c))\n",
    "print(\"Time:\",ed-st)"
   ]
  },
  {
   "cell_type": "code",
   "execution_count": 4,
   "metadata": {},
   "outputs": [
    {
     "name": "stdout",
     "output_type": "stream",
     "text": [
      "[[-38.54724656  36.01183984 -12.96472016 ...  31.72509322  14.56102282\n",
      "    3.51573581]\n",
      " [ 33.07941645 -12.8237037    7.56872683 ...   0.29008016 -24.90881766\n",
      "  -65.54496598]\n",
      " [  6.00512148  45.22889745  -4.83857164 ... -19.4634574   -5.219751\n",
      "  -16.40322885]\n",
      " ...\n",
      " [ -1.32718804 -22.37264872   2.60526424 ...  13.13904165  10.48330414\n",
      "  -52.77687479]\n",
      " [ -9.25239185 -26.88676563 -10.46947294 ...   3.8999377   -1.03615562\n",
      "    5.04060175]\n",
      " [ -7.18062409   9.09205416  20.04932519 ...   1.75636194  -3.5820881\n",
      "   -6.17233997]]\n",
      "Result Sum: -11997.284146891883\n",
      "Result Std: 22.25576049932783\n",
      "Time: 0.46635890007019043\n"
     ]
    }
   ],
   "source": [
    "# Faster version, with numpy offical accurate:\n",
    "c=np.zeros_like(a)\n",
    "st=time()\n",
    "for i in range(N):\n",
    "    for k in range(N):\n",
    "        c[i]+=a[i][k]*b[k]\n",
    "ed=time()\n",
    "print(c)\n",
    "print(\"Result Sum:\",np.sum(c))\n",
    "print(\"Result Std:\",np.std(c))\n",
    "print(\"Time:\",ed-st)"
   ]
  },
  {
   "cell_type": "code",
   "execution_count": 6,
   "metadata": {},
   "outputs": [
    {
     "name": "stdout",
     "output_type": "stream",
     "text": [
      "[[-38.54724656  36.01183984 -12.96472016 ...  31.72509322  14.56102282\n",
      "    3.51573581]\n",
      " [ 33.07941645 -12.8237037    7.56872683 ...   0.29008016 -24.90881766\n",
      "  -65.54496598]\n",
      " [  6.00512148  45.22889745  -4.83857164 ... -19.4634574   -5.219751\n",
      "  -16.40322885]\n",
      " ...\n",
      " [ -1.32718804 -22.37264872   2.60526424 ...  13.13904165  10.48330414\n",
      "  -52.77687479]\n",
      " [ -9.25239185 -26.88676563 -10.46947294 ...   3.8999377   -1.03615562\n",
      "    5.04060175]\n",
      " [ -7.18062409   9.09205416  20.04932519 ...   1.75636194  -3.5820881\n",
      "   -6.17233997]]\n",
      "Result Sum: -11997.284146891883\n",
      "Result Std: 22.25576049932783\n",
      "Time: 0.4195728302001953\n"
     ]
    }
   ],
   "source": [
    "# The inner FOR loop can be rewrite as a function. It should have similar performance as above block.\n",
    "c=np.zeros_like(a)\n",
    "\n",
    "def calc_a_line(i):\n",
    "    tmp=np.zeros(N)\n",
    "    for k in range(N):\n",
    "        tmp+=a[i][k]*b[k]\n",
    "    return tmp\n",
    "\n",
    "st=time()\n",
    "for i in range(N):\n",
    "    c[i]=calc_a_line(i)\n",
    "\n",
    "ed=time()\n",
    "print(c)\n",
    "print(\"Result Sum:\",np.sum(c))\n",
    "print(\"Result Std:\",np.std(c))\n",
    "print(\"Time:\",ed-st) # Time: 0.4195728302001953"
   ]
  },
  {
   "cell_type": "code",
   "execution_count": 10,
   "metadata": {},
   "outputs": [
    {
     "name": "stdout",
     "output_type": "stream",
     "text": [
      "[[-38.54724656  36.01183984 -12.96472016 ...  31.72509322  14.56102282\n",
      "    3.51573581]\n",
      " [ 33.07941645 -12.8237037    7.56872683 ...   0.29008016 -24.90881766\n",
      "  -65.54496598]\n",
      " [  6.00512148  45.22889745  -4.83857164 ... -19.4634574   -5.219751\n",
      "  -16.40322885]\n",
      " ...\n",
      " [ -1.32718804 -22.37264872   2.60526424 ...  13.13904165  10.48330414\n",
      "  -52.77687479]\n",
      " [ -9.25239185 -26.88676563 -10.46947294 ...   3.8999377   -1.03615562\n",
      "    5.04060175]\n",
      " [ -7.18062409   9.09205416  20.04932519 ...   1.75636194  -3.5820881\n",
      "   -6.17233997]]\n",
      "Result Sum: -11997.284146891883\n",
      "Result Std: 22.25576049932783\n",
      "Time: 0.13549447059631348\n"
     ]
    }
   ],
   "source": [
    "# Use MPG to accurate:\n",
    "c=np.zeros_like(a)\n",
    "\n",
    "def calc_a_line(i):\n",
    "    tmp=np.zeros(N)\n",
    "    for k in range(N):\n",
    "        tmp+=a[i][k]*b[k]\n",
    "    return tmp\n",
    "mlp=MP(NUM_THREADS,save_log=False)\n",
    "\n",
    "st=time()\n",
    "for i in range(N):\n",
    "    mlp.append(calc_a_line,i)    \n",
    "res=mlp.ret()\n",
    "\n",
    "for i,ri in enumerate(res):\n",
    "    c[i]=ri[\"res\"]\n",
    "\n",
    "ed=time()\n",
    "print(c)\n",
    "print(\"Result Sum:\",np.sum(c))\n",
    "print(\"Result Std:\",np.std(c))\n",
    "print(\"Time:\",ed-st) # Time: 0.13549447059631348, same result, about 3 times faster!"
   ]
  },
  {
   "cell_type": "code",
   "execution_count": 20,
   "metadata": {},
   "outputs": [
    {
     "name": "stdout",
     "output_type": "stream",
     "text": [
      "[[-148.27804742  -21.07393565  121.61612768 ...  -54.31319525\n",
      "    24.73537458  -50.41059962]\n",
      " [ 101.01427547   46.2548303   -39.30043569 ...   25.70911567\n",
      "   -51.15757428  -29.11510455]\n",
      " [ 123.55361766  -37.44681831  -19.96556746 ...  -44.57204772\n",
      "    34.46393536  107.19803579]\n",
      " ...\n",
      " [  83.75175845   87.28065218  119.05340351 ...   42.11870558\n",
      "    80.35652569  -40.50169971]\n",
      " [  19.64125197 -108.75562702  -93.25897317 ...  -46.50976526\n",
      "    -7.04327434   -0.35402183]\n",
      " [ -43.35918438   79.00445047  -34.54033525 ...  -55.6742761\n",
      "   -83.76952225   43.64067504]]\n",
      "Result Sum: -99082.72300692147\n",
      "Result Std: 70.70402219370665\n",
      "Traditional time: 110.14724016189575\n",
      "[[-148.27804742  -21.07393565  121.61612768 ...  -54.31319525\n",
      "    24.73537458  -50.41059962]\n",
      " [ 101.01427547   46.2548303   -39.30043569 ...   25.70911567\n",
      "   -51.15757428  -29.11510455]\n",
      " [ 123.55361766  -37.44681831  -19.96556746 ...  -44.57204772\n",
      "    34.46393536  107.19803579]\n",
      " ...\n",
      " [  83.75175845   87.28065218  119.05340351 ...   42.11870558\n",
      "    80.35652569  -40.50169971]\n",
      " [  19.64125197 -108.75562702  -93.25897317 ...  -46.50976526\n",
      "    -7.04327434   -0.35402183]\n",
      " [ -43.35918438   79.00445047  -34.54033525 ...  -55.6742761\n",
      "   -83.76952225   43.64067504]]\n",
      "Result Sum: -99082.72300692147\n",
      "Result Std: 70.70402219370665\n",
      "MPG time: 31.61445164680481\n",
      "MPG is 3.484078781199675x faster than traditional!\n"
     ]
    }
   ],
   "source": [
    "# How about when matrix is larger?\n",
    "M=5000\n",
    "al=np.random.randn(M,M)\n",
    "bl=np.random.randn(M,M)\n",
    "\n",
    "def calc_a_line_large(i):\n",
    "    tmp=np.zeros(M)\n",
    "    for k in range(M):\n",
    "        tmp+=al[i][k]*bl[k]\n",
    "    return tmp\n",
    "\n",
    "# traditional\n",
    "st=time()\n",
    "cl=np.zeros_like(al)\n",
    "for i in range(M):\n",
    "    cl[i]=calc_a_line_large(i)\n",
    "ed=time()\n",
    "td_time=ed-st\n",
    "print(cl)\n",
    "print(\"Result Sum:\",np.sum(cl))\n",
    "print(\"Result Std:\",np.std(cl))\n",
    "print(\"Traditional time:\",td_time)\n",
    "\n",
    "# MPG\n",
    "cl=np.zeros_like(al)\n",
    "\n",
    "mlp=MP(NUM_THREADS,save_log=False)\n",
    "\n",
    "st=time()\n",
    "for i in range(M):\n",
    "    mlp.append(calc_a_line_large,i)    \n",
    "res=mlp.ret()\n",
    "\n",
    "for i,ri in enumerate(res):\n",
    "    cl[i]=ri[\"res\"]\n",
    "\n",
    "ed=time()\n",
    "mpg_time=ed-st\n",
    "print(cl)\n",
    "print(\"Result Sum:\",np.sum(cl))\n",
    "print(\"Result Std:\",np.std(cl))\n",
    "print(\"MPG time:\",mpg_time)\n",
    "if mpg_time<td_time:\n",
    "    print(f\"MPG is {td_time/mpg_time}x faster than traditional!\")\n",
    "    # with more CPU on cluster, it can be faster!!!\n",
    "else:\n",
    "    print(\"MPG is a bull-shit!\")"
   ]
  },
  {
   "cell_type": "code",
   "execution_count": 24,
   "metadata": {},
   "outputs": [],
   "source": [
    "# Save log function of MPG:\n",
    "cl=np.zeros_like(al)\n",
    "mlp=MP(NUM_THREADS,save_log=True)\n",
    "for i in range(M):\n",
    "    mlp.append(calc_a_line_large,i)    \n",
    "res=mlp.ret()\n",
    "# The executed function name, args, execute time for each pthread, function result or raised error will be saved in a table. See logs/20230111-190259.csv"
   ]
  },
  {
   "cell_type": "code",
   "execution_count": null,
   "metadata": {},
   "outputs": [],
   "source": [
    "# MPG works most outstanding when handling large dataset. For that examples, see the project \"adni_muse\" and \"epi_reg\"."
   ]
  },
  {
   "cell_type": "code",
   "execution_count": 22,
   "metadata": {},
   "outputs": [
    {
     "name": "stdout",
     "output_type": "stream",
     "text": [
      "[[-148.27804742  -21.07393565  121.61612768 ...  -54.31319525\n",
      "    24.73537458  -50.41059962]\n",
      " [ 101.01427547   46.2548303   -39.30043569 ...   25.70911567\n",
      "   -51.15757428  -29.11510455]\n",
      " [ 123.55361766  -37.44681831  -19.96556746 ...  -44.57204772\n",
      "    34.46393536  107.19803579]\n",
      " ...\n",
      " [  83.75175845   87.28065218  119.05340351 ...   42.11870558\n",
      "    80.35652569  -40.50169971]\n",
      " [  19.64125197 -108.75562702  -93.25897317 ...  -46.50976526\n",
      "    -7.04327434   -0.35402183]\n",
      " [ -43.35918438   79.00445047  -34.54033525 ...  -55.6742761\n",
      "   -83.76952225   43.64067504]]\n",
      "Result Sum: -99082.72300692371\n",
      "Result Std: 70.70402219370665\n",
      "numpy time: 1.2069101333618164\n"
     ]
    }
   ],
   "source": [
    "# extra: BTW, npy official np.matmul Best QAQ, while MPG can be used in more situations.\n",
    "cl=np.zeros_like(al)\n",
    "\n",
    "st=time()\n",
    "cl=np.matmul(al,bl)\n",
    "\n",
    "ed=time()\n",
    "np_time=ed-st\n",
    "print(cl)\n",
    "print(\"Result Sum:\",np.sum(cl))\n",
    "print(\"Result Std:\",np.std(cl))\n",
    "print(\"numpy time:\",np_time)"
   ]
  }
 ],
 "metadata": {
  "kernelspec": {
   "display_name": "sci",
   "language": "python",
   "name": "python3"
  },
  "language_info": {
   "codemirror_mode": {
    "name": "ipython",
    "version": 3
   },
   "file_extension": ".py",
   "mimetype": "text/x-python",
   "name": "python",
   "nbconvert_exporter": "python",
   "pygments_lexer": "ipython3",
   "version": "3.10.8"
  },
  "orig_nbformat": 4,
  "vscode": {
   "interpreter": {
    "hash": "cdb86964402ad6b3ddbfc454b051b09e86b61c4930554bb6af2a69913137d6b5"
   }
  }
 },
 "nbformat": 4,
 "nbformat_minor": 2
}
